{
  "nbformat": 4,
  "nbformat_minor": 0,
  "metadata": {
    "colab": {
      "provenance": []
    },
    "kernelspec": {
      "name": "python3",
      "display_name": "Python 3"
    },
    "language_info": {
      "name": "python"
    }
  },
  "cells": [
    {
      "cell_type": "code",
      "execution_count": 2,
      "metadata": {
        "colab": {
          "base_uri": "https://localhost:8080/"
        },
        "id": "qRcI5E7dElYD",
        "outputId": "cca1bda8-c9bb-4f15-bfdd-5eee792e5ccb"
      },
      "outputs": [
        {
          "output_type": "stream",
          "name": "stdout",
          "text": [
            "4\n",
            "8\n",
            "12\n",
            "16\n",
            "20\n"
          ]
        }
      ],
      "source": [
        "# 5 multiply of 4\n",
        "for step in range (4,21,4):\n",
        "  print(step)\n"
      ]
    },
    {
      "cell_type": "code",
      "source": [
        "# 5 multiply of 8\n",
        "step=1\n",
        "while step<=10:\n",
        "    print(step*8)\n",
        "    step=step+1\n",
        ""
      ],
      "metadata": {
        "colab": {
          "base_uri": "https://localhost:8080/"
        },
        "id": "xp_8NfqtGd0q",
        "outputId": "50dab449-b29c-43b4-a822-7cffe2301e3e"
      },
      "execution_count": 20,
      "outputs": [
        {
          "output_type": "stream",
          "name": "stdout",
          "text": [
            "8\n",
            "16\n",
            "24\n",
            "32\n",
            "40\n",
            "48\n",
            "56\n",
            "64\n",
            "72\n",
            "80\n"
          ]
        }
      ]
    },
    {
      "cell_type": "code",
      "source": [
        "#Write a loop to calculate the total sales for the month. Then, write another loop to count how many days had sales above $100.\n",
        "\n",
        "daily_sales = [120, 85, 99, 130, 110, 95, 150, 75, 100, 102,115, 90, 140, 50, 160, 105, 88, 115, 60, 130, 125, 55, 99, 180, 95, 75, 110, 120, 135, 98,340]\n",
        "total_sales=0\n",
        "\n",
        "count=0\n",
        "\n",
        "i=0\n",
        "\n",
        "while i<len(daily_sales) :\n",
        "\n",
        "    total_sales += daily_sales[i]\n",
        "\n",
        "    if daily_sales[i] >100:\n",
        "\n",
        "        count=count+1\n",
        "    i=i+1\n",
        "\n",
        "print(count)\n",
        "\n",
        "print(total_sales)\n",
        "print(total_sales/count)\n",
        "\n",
        "#The owner wants to know the average daily sales for the month. Write a loop to calculate the average sales for the month.\n",
        "#The manager wants to know how many days had sales higher than the previous day’s sales.Write a loop to count how many days had higher sales compared to the previous day\n",
        "#The manager wants to identify days when sales were below the monthly average. Write a loop to count how many days had sales below the average sales for the month.\n",
        "#The manager wants to identify the days with the highest and lowest sales in the month.Write a loop to find the days with the maximum and minimum sales.\n",
        "\n"
      ],
      "metadata": {
        "colab": {
          "base_uri": "https://localhost:8080/"
        },
        "id": "C-qyRamcJdxj",
        "outputId": "8d8f2d95-b13d-46d2-b3e5-e499de084abb"
      },
      "execution_count": 13,
      "outputs": [
        {
          "output_type": "stream",
          "name": "stdout",
          "text": [
            "17\n",
            "3551\n",
            "208.88235294117646\n"
          ]
        }
      ]
    },
    {
      "cell_type": "code",
      "source": [
        "daily_sales = [120, 85, 99, 130, 110, 95, 150, 75, 100, 102,115, 90, 140, 50, 160, 105, 88, 115, 60, 130, 125, 55, 99, 180, 95, 75, 110, 120, 135, 98,340]\n",
        "#The owner wants to know the average daily sales for the month. Write a loop to calculate the average sales for the month.\n",
        "total_sales=0\n",
        "for i in daily_sales:\n",
        "    total_sales=i+total_sales\n",
        "print(\"total_sales\",total_sales)\n",
        "average_sales=total_sales/len(daily_sales)\n",
        "print(\"average_sales\",average_sales)\n",
        "# The manager wants to know how many days had sales higher than the previous day’s sales.\n",
        "# Write a loop to count how many days had higher sales compared to the previous day\n",
        "count=0\n",
        "for i in range(1,len(daily_sales)):\n",
        "    if daily_sales[i]>daily_sales[i-1]:\n",
        "        print(\"higher sales than the previous day\",daily_sales[i])\n",
        "        count=count+1\n",
        "print(count)\n",
        "#The manager wants to identify days when sales were below the monthly average.\n",
        "#Write a loop to count how many days had sales below the average sales for the month.\n",
        "count=0\n",
        "for i in range(1,len(daily_sales)):\n",
        "    if daily_sales[i]<average_sales:\n",
        "        print(\"sales were below the monthly average\",daily_sales[i])\n",
        "        count=count+1\n",
        "print(\"sales below the average sales for the month\",count)\n",
        "\n",
        "#The manager wants to identify the days with the highest and lowest sales in the month.\n",
        "#Write a loop to find the days with the maximum and minimum sales.\n",
        "count=0\n",
        "for i in range(1,len(daily_sales)):\n",
        "    if daily_sales[i]==max(daily_sales):\n",
        "        print(\"days with the maximum sales\",daily_sales[i])\n",
        "for i in range(1,len(daily_sales)):\n",
        "    if daily_sales[i]==min(daily_sales):\n",
        "        print(\"days with the minimum sales\",daily_sales[i])\n",
        "\n"
      ],
      "metadata": {
        "colab": {
          "base_uri": "https://localhost:8080/"
        },
        "id": "UZEogtvjDRcj",
        "outputId": "aecdc6da-c449-45dc-a9cc-0bceca7e8c6e"
      },
      "execution_count": 25,
      "outputs": [
        {
          "output_type": "stream",
          "name": "stdout",
          "text": [
            "total_sales 3551\n",
            "average_sales 114.54838709677419\n",
            "higher sales than the previous day 99\n",
            "higher sales than the previous day 130\n",
            "higher sales than the previous day 150\n",
            "higher sales than the previous day 100\n",
            "higher sales than the previous day 102\n",
            "higher sales than the previous day 115\n",
            "higher sales than the previous day 140\n",
            "higher sales than the previous day 160\n",
            "higher sales than the previous day 115\n",
            "higher sales than the previous day 130\n",
            "higher sales than the previous day 99\n",
            "higher sales than the previous day 180\n",
            "higher sales than the previous day 110\n",
            "higher sales than the previous day 120\n",
            "higher sales than the previous day 135\n",
            "higher sales than the previous day 340\n",
            "16\n",
            "sales were below the monthly average 85\n",
            "sales were below the monthly average 99\n",
            "sales were below the monthly average 110\n",
            "sales were below the monthly average 95\n",
            "sales were below the monthly average 75\n",
            "sales were below the monthly average 100\n",
            "sales were below the monthly average 102\n",
            "sales were below the monthly average 90\n",
            "sales were below the monthly average 50\n",
            "sales were below the monthly average 105\n",
            "sales were below the monthly average 88\n",
            "sales were below the monthly average 60\n",
            "sales were below the monthly average 55\n",
            "sales were below the monthly average 99\n",
            "sales were below the monthly average 95\n",
            "sales were below the monthly average 75\n",
            "sales were below the monthly average 110\n",
            "sales were below the monthly average 98\n",
            "sales below the average sales for the month 18\n",
            "days with the maximum sales 340\n",
            "days with the minimum sales 50\n"
          ]
        }
      ]
    }
  ]
}