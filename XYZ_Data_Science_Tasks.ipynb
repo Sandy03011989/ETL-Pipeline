{
  "cells": [
    {
      "cell_type": "code",
      "execution_count": null,
      "id": "9225480d",
      "metadata": {
        "colab": {
          "base_uri": "https://localhost:8080/"
        },
        "id": "9225480d",
        "outputId": "cce7773c-9a69-433e-90a1-91304f4009bc"
      },
      "outputs": [
        {
          "output_type": "stream",
          "name": "stdout",
          "text": [
            "Total Units Sold: 800\n",
            "Difference between categories: 200\n",
            "Units Sold Ratio (Category A to Category B): 1.67\n"
          ]
        }
      ],
      "source": [
        "\n",
        "# Task 1: Sales Data Summary\n",
        "category_a = 500\n",
        "category_b = 300\n",
        "\n",
        "total_units = category_a + category_b\n",
        "difference = category_a - category_b\n",
        "ratio = category_a / category_b\n",
        "\n",
        "print(f\"Total Units Sold: {total_units}\")\n",
        "print(f\"Difference between categories: {difference}\")\n",
        "print(f\"Units Sold Ratio (Category A to Category B): {ratio:.2f}\")\n"
      ]
    },
    {
      "cell_type": "code",
      "execution_count": null,
      "id": "b0dc3d44",
      "metadata": {
        "colab": {
          "base_uri": "https://localhost:8080/"
        },
        "id": "b0dc3d44",
        "outputId": "851ebcc7-b643-4bc7-8a0b-a61dd41523fc"
      },
      "outputs": [
        {
          "output_type": "stream",
          "name": "stdout",
          "text": [
            "Dear John Doe, at 30, you’re eligible for our premium loyalty program.\n"
          ]
        }
      ],
      "source": [
        "\n",
        "# Task 2: Customer Age Data\n",
        "name = \"John Doe\"\n",
        "age = 30\n",
        "\n",
        "message = (f\"Dear {name}, at {age}, you’re eligible for our premium loyalty program.\")\n",
        "print(message)\n"
      ]
    },
    {
      "cell_type": "code",
      "source": [],
      "metadata": {
        "id": "59kqremJTJvM"
      },
      "id": "59kqremJTJvM",
      "execution_count": null,
      "outputs": []
    },
    {
      "cell_type": "code",
      "execution_count": null,
      "metadata": {
        "colab": {
          "base_uri": "https://localhost:8080/"
        },
        "id": "75b4304d",
        "outputId": "0dff5ff3-ba3d-4b2c-a09a-5a12b623dc2b"
      },
      "outputs": [
        {
          "output_type": "stream",
          "name": "stdout",
          "text": [
            "600\n",
            "100\n",
            "250\n",
            "300\n",
            "450\n",
            "Updated Product List: 1000\n"
          ]
        }
      ],
      "source": [
        "\n",
        "# Task 3: Product List Management\n",
        "prices = [100, 250, 300, 450, 600]\n",
        "\n",
        "highest_price = max(prices)\n",
        "lowest_price = min(prices)\n",
        "print(highest_price)\n",
        "print(lowest_price)\n",
        "\n",
        "# Create an empty list to store mid-range prices\n",
        "mid_range_prices_list = []\n",
        "\n",
        "for price in prices:\n",
        "    if lowest_price < price < highest_price:\n",
        "        mid_range_prices_list.append(price)\n",
        "        print(price)\n",
        "\n",
        "# Calculate the sum of mid-range prices using the list\n",
        "mid_range_prices_sum = int(sum(mid_range_prices_list))\n",
        "print(\"Updated Product List:\",mid_range_prices_sum)\n"
      ],
      "id": "75b4304d"
    },
    {
      "cell_type": "code",
      "execution_count": null,
      "id": "0e17961c",
      "metadata": {
        "colab": {
          "base_uri": "https://localhost:8080/"
        },
        "id": "0e17961c",
        "outputId": "556624e0-cd3f-461a-b09a-a7a33c48b98e"
      },
      "outputs": [
        {
          "output_type": "stream",
          "name": "stdout",
          "text": [
            "Product Name: Wireless Mouse, SKU: WM12345\n"
          ]
        }
      ],
      "source": [
        "\n",
        "# Task 4: Inventory Lookup\n",
        "product_info = {\"product_name\": \"Wireless Mouse\",\"SKU\": \"WM12345\",\"price\": 150,\"category\": \"Electronics\"}\n",
        "print(f'Product Name: {product_info[\"product_name\"]}, SKU: {product_info[\"SKU\"]}')\n"
      ]
    },
    {
      "cell_type": "code",
      "execution_count": null,
      "id": "813abb07",
      "metadata": {
        "colab": {
          "base_uri": "https://localhost:8080/"
        },
        "id": "813abb07",
        "outputId": "bdf8a5f1-ad89-42f8-867a-3f0c77819605"
      },
      "outputs": [
        {
          "output_type": "stream",
          "name": "stdout",
          "text": [
            "Enter current stock level: 51\n",
            "Stock is sufficient\n",
            "Enter current stock level: 49\n",
            "Reorder Now\n"
          ]
        }
      ],
      "source": [
        "\n",
        "# Task 5: Stock Level Alert System\n",
        "maximum=2\n",
        "index=0\n",
        "while index<maximum:\n",
        "    stock_level = int(input(\"Enter current stock level: \"))\n",
        "    safety_stock = 50\n",
        "\n",
        "    if stock_level < safety_stock:\n",
        "        print(\"Reorder Now\")\n",
        "    else:\n",
        "        print(\"Stock is sufficient\")\n",
        "    index=index+1\n"
      ]
    },
    {
      "cell_type": "code",
      "execution_count": null,
      "id": "c285472a",
      "metadata": {
        "colab": {
          "base_uri": "https://localhost:8080/"
        },
        "id": "c285472a",
        "outputId": "4af50fc4-ccae-4635-dc64-35548fa7a11f"
      },
      "outputs": [
        {
          "output_type": "stream",
          "name": "stdout",
          "text": [
            "LAPTOP\n",
            "HEADPHONE\n",
            "MOUSE\n",
            "KEYBOARD\n",
            "LAPTOP\n",
            "HEADPHONE\n",
            "MOUSE\n",
            "KEYBOARD\n"
          ]
        }
      ],
      "source": [
        "\n",
        "# Task 6: Sales Report Formatting\n",
        "products_sold = [\"laptop\", \"headphone\", \"mouse\", \"keyboard\"]\n",
        "\n",
        "\n",
        "# Using while loop\n",
        "i=0\n",
        "while i < len(products_sold):\n",
        "    print(products_sold[i].upper())\n",
        "    i =i+ 1\n",
        "\n",
        "# Using for loop\n",
        "for product in products_sold:\n",
        "    print(product.upper())\n",
        "\n"
      ]
    },
    {
      "cell_type": "code",
      "execution_count": null,
      "id": "0dcc33ee",
      "metadata": {
        "colab": {
          "base_uri": "https://localhost:8080/"
        },
        "id": "0dcc33ee",
        "outputId": "48fa90b5-436b-452d-da13-1d98b7bedcc7"
      },
      "outputs": [
        {
          "output_type": "stream",
          "name": "stdout",
          "text": [
            "Section Area: 200 square meters\n",
            "Section Area: 375 square meters\n",
            "Section Area: 216 square meters\n"
          ]
        }
      ],
      "source": [
        "\n",
        "# Task 7: Area Calculation for Store Layout\n",
        "def calculate_area(length, width):\n",
        "    return length * width\n",
        "\n",
        "# Example store sections\n",
        "sections = [(10, 20), (15, 25), (12, 18)]\n",
        "\n",
        "for section in sections:\n",
        "    area = calculate_area(section[0], section[1])\n",
        "    print(f\"Section Area: {area} square meters\")\n"
      ]
    },
    {
      "cell_type": "code",
      "execution_count": null,
      "id": "e9c1761f",
      "metadata": {
        "colab": {
          "base_uri": "https://localhost:8080/"
        },
        "id": "e9c1761f",
        "outputId": "72617cb1-622a-4986-b856-5c5b49c3dd19"
      },
      "outputs": [
        {
          "output_type": "stream",
          "name": "stdout",
          "text": [
            "Enter customer feedback: product is good but delay\n",
            "Number of vowels: 8\n",
            "Reversed feedback: yaled tub doog si tcudorp\n"
          ]
        }
      ],
      "source": [
        "\n",
        "# Task 8: Customer Feedback Analysis\n",
        "def count_vowels(feedback):\n",
        "    vowels = \"aeiouAEIOU\"\n",
        "    vowel_count = 0\n",
        "    for index in feedback:\n",
        "        if index in vowels:\n",
        "            vowel_count =vowel_count+ 1\n",
        "    return vowel_count\n",
        "\n",
        "def reverse_feedback(feedback):\n",
        "    return feedback[::-1]\n",
        "\n",
        "# Get customer feedback\n",
        "feedback_message = input(\"Enter customer feedback: \")\n",
        "\n",
        "# Count vowels\n",
        "num_vowels = count_vowels(feedback_message)\n",
        "print(f\"Number of vowels: {num_vowels}\")\n",
        "\n",
        "# Reverse feedback\n",
        "reversed_message = reverse_feedback(feedback_message)\n",
        "print(f\"Reversed feedback: {reversed_message}\")\n",
        "\n"
      ]
    },
    {
      "cell_type": "code",
      "execution_count": null,
      "id": "6d4013e2",
      "metadata": {
        "colab": {
          "base_uri": "https://localhost:8080/"
        },
        "id": "6d4013e2",
        "outputId": "eae3659a-9359-4bac-84f4-4c0ef0d26c65"
      },
      "outputs": [
        {
          "output_type": "stream",
          "name": "stdout",
          "text": [
            "Eligible products for discount campaign: 250\n",
            "Eligible products for discount campaign: 300\n",
            "Eligible products for discount campaign: 350\n",
            "Eligible products for discount campaign: 400\n",
            "Eligible products for discount campaign: 450\n",
            "Eligible products for discount campaign: 500\n"
          ]
        }
      ],
      "source": [
        "\n",
        "# Task 9: Price Filtering Tool\n",
        "product_prices = [50,100,150,200,250,300,350,400,450,500]\n",
        "threshold_price = 200\n",
        "\n",
        "\n",
        "for price in product_prices:\n",
        "    if price > threshold_price:\n",
        "        print(\"Eligible products for discount campaign:\",price)\n",
        "\n"
      ]
    },
    {
      "cell_type": "code",
      "execution_count": null,
      "id": "5c4f5c1a",
      "metadata": {
        "colab": {
          "base_uri": "https://localhost:8080/"
        },
        "id": "5c4f5c1a",
        "outputId": "718fb83d-c710-4412-db5a-02c0c94a3703"
      },
      "outputs": [
        {
          "output_type": "stream",
          "name": "stdout",
          "text": [
            "Sales Summary: Total sales $5000\n",
            "Sales Summary: 300 units sold\n"
          ]
        }
      ],
      "source": [
        "\n",
        "# Task 10: Sales Log File Management\n",
        "# Writing to file\n",
        "with open(\"sales_log.txt\", \"w\") as file:\n",
        "    file.write(\"Sales Summary: Total sales $5000\\n\")\n",
        "    file.write(\"Sales Summary: 300 units sold\")\n",
        "\n",
        "# Reading the file\n",
        "with open(\"sales_log.txt\", \"r\") as file:\n",
        "    print(file.read())\n"
      ]
    },
    {
      "cell_type": "code",
      "execution_count": null,
      "id": "65c3282e",
      "metadata": {
        "id": "65c3282e",
        "colab": {
          "base_uri": "https://localhost:8080/"
        },
        "outputId": "4c7aaed0-437e-483c-8602-e1072b7e8cb2"
      },
      "outputs": [
        {
          "output_type": "stream",
          "name": "stdout",
          "text": [
            "Average Daily Sales: 321.43\n"
          ]
        }
      ],
      "source": [
        "\n",
        "# Task 11: Daily Sales Average\n",
        "sales_last_week = [200, 250, 300, 150, 400, 450, 500]\n",
        "average_sales = sum(sales_last_week) / len(sales_last_week)\n",
        "print(f\"Average Daily Sales: {average_sales:.2f}\")\n"
      ]
    },
    {
      "cell_type": "code",
      "execution_count": null,
      "id": "8891780c",
      "metadata": {
        "id": "8891780c",
        "colab": {
          "base_uri": "https://localhost:8080/"
        },
        "outputId": "a99f9380-6058-428c-878f-6dc62a4921b5"
      },
      "outputs": [
        {
          "output_type": "stream",
          "name": "stdout",
          "text": [
            "Customer Segmentation: ['Low', 'Medium', 'Medium', 'Low', 'High', 'High']\n"
          ]
        }
      ],
      "source": [
        "\n",
        "# Task 12: Customer Segmentation\n",
        "customer_spending = [150, 300, 450, 120, 800, 600]\n",
        "\n",
        "segmented_customers = []\n",
        "for spending in customer_spending:\n",
        "    if spending < 200:\n",
        "        segmented_customers.append(\"Low\")\n",
        "    elif spending < 500:\n",
        "        segmented_customers.append(\"Medium\")\n",
        "    else:\n",
        "        segmented_customers.append(\"High\")\n",
        "\n",
        "print(\"Customer Segmentation:\", segmented_customers)\n"
      ]
    },
    {
      "cell_type": "code",
      "execution_count": null,
      "id": "80f77ea0",
      "metadata": {
        "id": "80f77ea0",
        "colab": {
          "base_uri": "https://localhost:8080/"
        },
        "outputId": "4ac4d82e-3a2b-4056-e44d-12962effa4b2"
      },
      "outputs": [
        {
          "output_type": "stream",
          "name": "stdout",
          "text": [
            "Laptop: Original Price = 50000, Discount = 10%, Final Price = 45000.00\n",
            "Headphone: Original Price = 2000, Discount = 20%, Final Price = 1600.00\n",
            "Mouse: Original Price = 800, Discount = 5%, Final Price = 760.00\n",
            "Keyboard: Original Price = 1500, Discount = 15%, Final Price = 1275.00\n"
          ]
        }
      ],
      "source": [
        "\n",
        "# Task 13 - List of products with their original prices and discount percentages\n",
        "products = [\n",
        "    {\"name\": \"Laptop\", \"original_price\": 50000, \"discount\": 10},\n",
        "    {\"name\": \"Headphone\", \"original_price\": 2000, \"discount\": 20},\n",
        "    {\"name\": \"Mouse\", \"original_price\": 800, \"discount\": 5},\n",
        "    {\"name\": \"Keyboard\", \"original_price\": 1500, \"discount\": 15}  ]\n",
        "\n",
        "# Calculate and print the final prices for each product\n",
        "for product in products:\n",
        "    name = product[\"name\"]\n",
        "    original_price = product[\"original_price\"]\n",
        "    discount = product[\"discount\"]\n",
        "    final_price = calculate_final_price(original_price, discount)\n",
        "    print(f\"{name}: Original Price = {original_price}, Discount = {discount}%, Final Price = {final_price:.2f}\")\n",
        "\n"
      ]
    },
    {
      "cell_type": "code",
      "execution_count": null,
      "id": "28a63ff3",
      "metadata": {
        "id": "28a63ff3",
        "colab": {
          "base_uri": "https://localhost:8080/"
        },
        "outputId": "6f2071e5-4f69-4be8-8f74-04f9f15da9c6"
      },
      "outputs": [
        {
          "output_type": "stream",
          "name": "stdout",
          "text": [
            "Enter customer feedback: product is bad\n",
            "Negative\n"
          ]
        }
      ],
      "source": [
        "\n",
        "# Task 14: Customer Feedback Sentiment Analysis\n",
        "positive_words = [\"good\", \"happy\", \"excellent\"]\n",
        "negative_words = [\"bad\", \"disappointed\", \"poor\"]\n",
        "\n",
        "feedback = input(\"Enter customer feedback: \")\n",
        "\n",
        "if any(word in feedback.lower() for word in positive_words):\n",
        "    print(\"Positive\")\n",
        "elif any(word in feedback.lower() for word in negative_words):\n",
        "    print(\"Negative\")\n",
        "else:\n",
        "    print(\"None\")\n"
      ]
    },
    {
      "cell_type": "code",
      "execution_count": null,
      "id": "93d5c021",
      "metadata": {
        "id": "93d5c021",
        "colab": {
          "base_uri": "https://localhost:8080/"
        },
        "outputId": "fce76496-793c-4bd3-bb5f-37bc8b19a327"
      },
      "outputs": [
        {
          "output_type": "stream",
          "name": "stdout",
          "text": [
            "John's updated salary: 43200.0\n",
            "Jane's updated salary: 52500.0\n"
          ]
        }
      ],
      "source": [
        "\n",
        "# Task 15: Employee Salary Increment Calculator\n",
        "employees = {\"John\": {\"salary\": 40000, \"performance_rating\": 4},\"Jane\": {\"salary\": 50000, \"performance_rating\": 3},}\n",
        "\n",
        "def calculate_increment(employee):\n",
        "    if employee[\"performance_rating\"] == 5:\n",
        "        return employee[\"salary\"] * 0.1\n",
        "    elif employee[\"performance_rating\"] == 4:\n",
        "        return employee[\"salary\"] * 0.08\n",
        "    else:\n",
        "        return employee[\"salary\"] * 0.05\n",
        "\n",
        "for name, data in employees.items():\n",
        "    increment = calculate_increment(data)\n",
        "    updated_salary = data[\"salary\"] + increment\n",
        "    print(f\"{name}'s updated salary: {updated_salary}\")\n"
      ]
    },
    {
      "cell_type": "code",
      "execution_count": null,
      "id": "0842bcbd",
      "metadata": {
        "id": "0842bcbd",
        "colab": {
          "base_uri": "https://localhost:8080/"
        },
        "outputId": "3dc82e0c-76cb-4a83-d579-555f06976c6f"
      },
      "outputs": [
        {
          "output_type": "stream",
          "name": "stdout",
          "text": [
            "Monthly Report generated\n"
          ]
        }
      ],
      "source": [
        "\n",
        "# Task 16: Monthly Sales Report Generator\n",
        "daily_sales = [200, 250, 300, 150, 400, 450, 500, 600, 700, 800, 900, 1000]\n",
        "\n",
        "total_sales = sum(daily_sales)\n",
        "average_sales = total_sales / len(daily_sales)\n",
        "\n",
        "with open(\"monthly_report.txt\", \"w\") as file:\n",
        "    file.write(f\"Total Sales: {total_sales}\\n\")\n",
        "    file.write(f\"Average Sales: {average_sales}\\n\")\n",
        "\n",
        "print(\"Monthly Report generated\")\n"
      ]
    },
    {
      "cell_type": "code",
      "execution_count": 7,
      "id": "85c9f80a",
      "metadata": {
        "id": "85c9f80a",
        "colab": {
          "base_uri": "https://localhost:8080/"
        },
        "outputId": "0cf57c2c-bc3d-4f3e-eeb2-fb273cc93056"
      },
      "outputs": [
        {
          "output_type": "stream",
          "name": "stdout",
          "text": [
            "item1 needs to be reordered\n",
            "item3 needs to be reordered\n",
            "item4 needs to be reordered\n"
          ]
        }
      ],
      "source": [
        "\n",
        "# Task 17: Stock Replenishment Planning\n",
        "products = {\"item1\": 30, \"item2\": 100, \"item3\": 15, \"item4\": 40}\n",
        "safety_stcok <= 50\n",
        "\n",
        "for product, stock in products.items():\n",
        "    if stock < safety_stcok:\n",
        "        print(f\"{product} needs to be reordered\")\n"
      ]
    },
    {
      "cell_type": "code",
      "execution_count": null,
      "id": "eb139009",
      "metadata": {
        "id": "eb139009",
        "colab": {
          "base_uri": "https://localhost:8080/"
        },
        "outputId": "ffed2865-50b2-40a6-a224-83c95e45ac3f"
      },
      "outputs": [
        {
          "output_type": "stream",
          "name": "stdout",
          "text": [
            "Cleaned Names: ['John Doe', 'Jane Doe', 'Alice Smith']\n"
          ]
        }
      ],
      "source": [
        "\n",
        "# Task 18: Data Cleaning Utility\n",
        "names = [\"  JOHN DOE \", \"jane DOE  \", \"  alice smith \"]\n",
        "\n",
        "cleaned_names = [name.strip().title() for name in names]\n",
        "print(\"Cleaned Names:\", cleaned_names)\n"
      ]
    },
    {
      "cell_type": "code",
      "execution_count": null,
      "id": "a7d9a7ad",
      "metadata": {
        "id": "a7d9a7ad",
        "colab": {
          "base_uri": "https://localhost:8080/"
        },
        "outputId": "6603e9d1-72ec-4aca-b9d9-6315a8d9caae"
      },
      "outputs": [
        {
          "output_type": "stream",
          "name": "stdout",
          "text": [
            "Forecasted Sales for Next Month: 1166.67\n"
          ]
        }
      ],
      "source": [
        "\n",
        "# Task 19: Simple Sales Forecasting\n",
        "sales_last_3_months = [1000, 1200, 1300]\n",
        "forecasted_sales = sum(sales_last_3_months) / len(sales_last_3_months)\n",
        "print(f\"Forecasted Sales for Next Month: {forecasted_sales:.2f}\")\n"
      ]
    },
    {
      "cell_type": "code",
      "execution_count": null,
      "id": "8bac6310",
      "metadata": {
        "id": "8bac6310",
        "colab": {
          "base_uri": "https://localhost:8080/"
        },
        "outputId": "3d188d33-052d-4eaa-8cac-f7d19aa7790e"
      },
      "outputs": [
        {
          "output_type": "stream",
          "name": "stdout",
          "text": [
            "John earned 25.0 loyalty points.\n",
            "Jane earned 75.0 loyalty points.\n",
            "Alice earned 150.0 loyalty points.\n"
          ]
        }
      ],
      "source": [
        "\n",
        "# Task 20: Customer Loyalty Points Calculator\n",
        "customers = {\"John\": 250, \"Jane\": 500, \"Alice\": 750}\n",
        "\n",
        "def calculate_loyalty_points(amount_spent):\n",
        "    if amount_spent < 300:\n",
        "        return amount_spent * 0.1\n",
        "    elif amount_spent < 600:\n",
        "        return amount_spent * 0.15\n",
        "    else:\n",
        "        return amount_spent * 0.2\n",
        "\n",
        "for customer, amount in customers.items():\n",
        "    points = calculate_loyalty_points(amount)\n",
        "    print(f\"{customer} earned {points} loyalty points.\")\n"
      ]
    }
  ],
  "metadata": {
    "colab": {
      "provenance": []
    },
    "language_info": {
      "name": "python"
    },
    "kernelspec": {
      "name": "python3",
      "display_name": "Python 3"
    }
  },
  "nbformat": 4,
  "nbformat_minor": 5
}